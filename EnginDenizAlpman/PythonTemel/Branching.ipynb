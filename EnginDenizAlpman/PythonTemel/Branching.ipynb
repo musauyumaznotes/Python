{
 "cells": [
  {
   "cell_type": "markdown",
   "id": "d3a7e95f",
   "metadata": {},
   "source": [
    "# Programı Dallandırma (Branching)\n",
    "\n",
    "\n",
    "- İfadelerin değerlerinin True veya False olduklarını veren karşılaştırmalara ve mantıksal operatörlere bakmıştık.\n",
    "\n",
    "\n",
    "- Şimdi bunların sonuçlarına göre programımızı dallandırmaya bakacağız.\n",
    "\n",
    "## if\n",
    "- Eğer testimin değeri True ise if bloğunun içinde yazanı yapacağız.\n",
    "\n",
    "\n",
    "- Yapılacakların if bloğuna ait olduğunu anlatmak için kodu if in içine yazarız. Python'ın o bloğun içinde olduğumuzu anlaması için boşluk bırakmamız gerekir.\n"
   ]
  },
  {
   "cell_type": "code",
   "execution_count": 1,
   "id": "290d8240",
   "metadata": {},
   "outputs": [
    {
     "name": "stdout",
     "output_type": "stream",
     "text": [
      "Bir sayı girin: 3\n",
      "Programınız sona ulaştı\n"
     ]
    }
   ],
   "source": [
    "x = int(input(\"Bir sayı girin: \"))\n",
    "\n",
    "if x % 2 == 0: \n",
    "    print(\"Sayınız çift sayı\")\n",
    "\n",
    "print(\"Programınız sona ulaştı\")"
   ]
  },
  {
   "cell_type": "markdown",
   "id": "bd291c95",
   "metadata": {},
   "source": [
    "## else\n",
    "- if ile kontrolümüz (veya elseif-elif) False sonucu döndürülürse yapılacak blok:"
   ]
  },
  {
   "cell_type": "code",
   "execution_count": 2,
   "id": "539178d1",
   "metadata": {},
   "outputs": [
    {
     "name": "stdout",
     "output_type": "stream",
     "text": [
      "Bir sayı girin: 2\n",
      "Sayınız çift sayı\n",
      "Programınız sona ulaştı\n"
     ]
    }
   ],
   "source": [
    "x = int(input(\"Bir sayı girin: \"))\n",
    "\n",
    "if x % 2 == 0:\n",
    "    print(\"Sayınız çift sayı\")\n",
    "else:\n",
    "    print(\"Sayınız tek sayı\")\n",
    "\n",
    "print(\"Programınız sona ulaştı\")"
   ]
  },
  {
   "cell_type": "markdown",
   "id": "452b7db5",
   "metadata": {},
   "source": [
    "## elif\n",
    "- elif if ile yaptığımız teste ek olarak başka testler yapmak istiyorsak kullanılır."
   ]
  },
  {
   "cell_type": "code",
   "execution_count": 3,
   "id": "f9fcdae2",
   "metadata": {},
   "outputs": [
    {
     "name": "stdout",
     "output_type": "stream",
     "text": [
      "Bir sayı girin: 10\n",
      "Sayı 10'a eşit\n",
      "Programınız sona ulaştı\n"
     ]
    }
   ],
   "source": [
    "x = int(input(\"Bir sayı girin: \"))\n",
    "\n",
    "if x < 10:\n",
    "    print(\"Sayı 10'dan küçük\")\n",
    "\n",
    "    \n",
    "elif x == 10:\n",
    "    print(\"Sayı 10'a eşit\")\n",
    "    \n",
    "else:\n",
    "    print(\"Sayı 10'dan büyük\")\n",
    "    \n",
    "print(\"Programınız sona ulaştı\")"
   ]
  },
  {
   "cell_type": "code",
   "execution_count": 4,
   "id": "f5059f90",
   "metadata": {},
   "outputs": [
    {
     "name": "stdout",
     "output_type": "stream",
     "text": [
      "0 ile 100 arasında bir sayı girin: 82\n",
      "Sayı 80 ile 90 arasında\n",
      "Programınız sona ulaştı\n"
     ]
    }
   ],
   "source": [
    "x = int(input(\"0 ile 100 arasında bir sayı girin: \"))\n",
    "\n",
    "if x == 100:\n",
    "    print(\"Sayı 100\")\n",
    "\n",
    "elif x >= 90:\n",
    "    print(\"Sayı 90 ile 100 arasında\")\n",
    "\n",
    "elif x >= 80:\n",
    "    print(\"Sayı 80 ile 90 arasında\")\n",
    "    \n",
    "else:\n",
    "    print(\"Sayı 80'den küçük\")\n",
    "    \n",
    "print(\"Programınız sona ulaştı\")"
   ]
  },
  {
   "cell_type": "markdown",
   "id": "7b2a5278",
   "metadata": {},
   "source": [
    "## Nested if\n",
    "- if, elif ve else bloğunun içine yazdığımız kod normal koddan farklı değil, o yüzden bunların içine de ayrıca if, elif ve else yazabiliriz."
   ]
  },
  {
   "cell_type": "code",
   "execution_count": 5,
   "id": "afb9d910",
   "metadata": {},
   "outputs": [
    {
     "name": "stdout",
     "output_type": "stream",
     "text": [
      "Bir sayı girin: 9\n",
      "Sayı 3'e bölünüyor ama 2'ye bölünmüyor\n",
      "Programınız sona ulaştı\n"
     ]
    }
   ],
   "source": [
    "x = int(input(\"Bir sayı girin: \"))\n",
    "\n",
    "if x % 3 == 0:\n",
    "    if x % 2 == 0:\n",
    "        print(\"Sayı hem 2'ye hem de 3'e bölünüyor\")\n",
    "    else:\n",
    "        print(\"Sayı 3'e bölünüyor ama 2'ye bölünmüyor\")\n",
    "\n",
    "else:\n",
    "    \n",
    "    print(\"3'e bölünmüyor\")\n",
    "    \n",
    "print(\"Programınız sona ulaştı\")"
   ]
  },
  {
   "cell_type": "markdown",
   "id": "2085bfb3",
   "metadata": {},
   "source": [
    "## Test Olarak Mantıksal Operatörleri Kullanmak"
   ]
  },
  {
   "cell_type": "code",
   "execution_count": 18,
   "id": "b0cd0684",
   "metadata": {},
   "outputs": [
    {
     "name": "stdout",
     "output_type": "stream",
     "text": [
      "Bir sayı girin: 9\n",
      "Programınız sona ulaştı\n"
     ]
    }
   ],
   "source": [
    "x = int(input(\"Bir sayı girin: \"))\n",
    "\n",
    "if (x % 3 == 0) and (x % 2) == 0:\n",
    "    print(\"Sayı hem 2'ye hem de 3'e bölünüyor\")\n",
    "    \n",
    "print(\"Programınız sona ulaştı\")\n"
   ]
  },
  {
   "cell_type": "code",
   "execution_count": 20,
   "id": "e7955945",
   "metadata": {},
   "outputs": [
    {
     "name": "stdout",
     "output_type": "stream",
     "text": [
      "Bir sayı girin: 11\n",
      "Programınız sona ulaştı\n"
     ]
    }
   ],
   "source": [
    "x = int(input(\"Bir sayı girin: \"))\n",
    "\n",
    "if (x % 3 == 0) or (x % 2 == 0):\n",
    "    print(\"Sayı 2 veya 3'den en az birine bölünüyor\")\n",
    "    \n",
    "print(\"Programınız sona ulaştı\")"
   ]
  },
  {
   "cell_type": "code",
   "execution_count": null,
   "id": "fb62cc40",
   "metadata": {},
   "outputs": [],
   "source": []
  }
 ],
 "metadata": {
  "kernelspec": {
   "display_name": "Python 3 (ipykernel)",
   "language": "python",
   "name": "python3"
  },
  "language_info": {
   "codemirror_mode": {
    "name": "ipython",
    "version": 3
   },
   "file_extension": ".py",
   "mimetype": "text/x-python",
   "name": "python",
   "nbconvert_exporter": "python",
   "pygments_lexer": "ipython3",
   "version": "3.9.13"
  }
 },
 "nbformat": 4,
 "nbformat_minor": 5
}
