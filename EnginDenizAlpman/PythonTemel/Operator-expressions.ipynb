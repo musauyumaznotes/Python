{
 "cells": [
  {
   "cell_type": "markdown",
   "id": "e360b459",
   "metadata": {},
   "source": [
    "# Operatörler ve İfadeler (Operators-Expressions)\n",
    "\n",
    "- Objeler(object) ve operatörlerin(operator) birleşimi expression'ları oluşturur.\n",
    "\n",
    "\n",
    "- Expression'ların değerleri (value)'ları vardır ve tabii ki de bunların tipleri vardır.\n",
    "\n",
    "\n",
    "- İfadeler şöyler oluşturulur: (object) (operator) (object)\n",
    "\n",
    "\n",
    "- Expression'ların tiplerini operator'un uygulandığı objelerin tipleri belirler."
   ]
  },
  {
   "cell_type": "markdown",
   "id": "a34ed9bb",
   "metadata": {},
   "source": [
    "## + operator"
   ]
  },
  {
   "cell_type": "code",
   "execution_count": 2,
   "id": "d74cb8ee",
   "metadata": {},
   "outputs": [
    {
     "data": {
      "text/plain": [
       "4"
      ]
     },
     "execution_count": 2,
     "metadata": {},
     "output_type": "execute_result"
    }
   ],
   "source": [
    "# İki tane integer'ın toplamı integer verir\n",
    "2+2"
   ]
  },
  {
   "cell_type": "code",
   "execution_count": 3,
   "id": "91a6f510",
   "metadata": {},
   "outputs": [
    {
     "data": {
      "text/plain": [
       "int"
      ]
     },
     "execution_count": 3,
     "metadata": {},
     "output_type": "execute_result"
    }
   ],
   "source": [
    "type(2+2)"
   ]
  },
  {
   "cell_type": "code",
   "execution_count": 4,
   "id": "cebb9f05",
   "metadata": {},
   "outputs": [
    {
     "data": {
      "text/plain": [
       "4.9"
      ]
     },
     "execution_count": 4,
     "metadata": {},
     "output_type": "execute_result"
    }
   ],
   "source": [
    "# İki tane float'ın toplamı float verir\n",
    "2.4 + 2.5"
   ]
  },
  {
   "cell_type": "code",
   "execution_count": 5,
   "id": "52055112",
   "metadata": {},
   "outputs": [
    {
     "data": {
      "text/plain": [
       "float"
      ]
     },
     "execution_count": 5,
     "metadata": {},
     "output_type": "execute_result"
    }
   ],
   "source": [
    "type(2.4+2.5)"
   ]
  },
  {
   "cell_type": "markdown",
   "id": "78ffcefa",
   "metadata": {},
   "source": [
    "- Eğer objelerden biri bile float ise toplam işleminde expression'ın tipi float olur"
   ]
  },
  {
   "cell_type": "code",
   "execution_count": 6,
   "id": "dd798422",
   "metadata": {},
   "outputs": [
    {
     "data": {
      "text/plain": [
       "5.4"
      ]
     },
     "execution_count": 6,
     "metadata": {},
     "output_type": "execute_result"
    }
   ],
   "source": [
    "2.4+3"
   ]
  },
  {
   "cell_type": "code",
   "execution_count": 7,
   "id": "73cfc7de",
   "metadata": {},
   "outputs": [
    {
     "data": {
      "text/plain": [
       "float"
      ]
     },
     "execution_count": 7,
     "metadata": {},
     "output_type": "execute_result"
    }
   ],
   "source": [
    "type(2.4 + 3)"
   ]
  },
  {
   "cell_type": "markdown",
   "id": "63865687",
   "metadata": {},
   "source": [
    "## - operator"
   ]
  },
  {
   "cell_type": "code",
   "execution_count": 8,
   "id": "dc16cd44",
   "metadata": {},
   "outputs": [
    {
     "data": {
      "text/plain": [
       "1"
      ]
     },
     "execution_count": 8,
     "metadata": {},
     "output_type": "execute_result"
    }
   ],
   "source": [
    "# İki tane integer'ın farkı integer verir.\n",
    "3 - 2"
   ]
  },
  {
   "cell_type": "code",
   "execution_count": 9,
   "id": "e844589e",
   "metadata": {},
   "outputs": [
    {
     "data": {
      "text/plain": [
       "int"
      ]
     },
     "execution_count": 9,
     "metadata": {},
     "output_type": "execute_result"
    }
   ],
   "source": [
    "type(3-2)"
   ]
  },
  {
   "cell_type": "code",
   "execution_count": 11,
   "id": "991de4d8",
   "metadata": {},
   "outputs": [
    {
     "data": {
      "text/plain": [
       "0.5"
      ]
     },
     "execution_count": 11,
     "metadata": {},
     "output_type": "execute_result"
    }
   ],
   "source": [
    "# İki tane float'un farkı float verir.\n",
    "2.6 - 2.1"
   ]
  },
  {
   "cell_type": "code",
   "execution_count": 12,
   "id": "b31f9a99",
   "metadata": {},
   "outputs": [
    {
     "data": {
      "text/plain": [
       "float"
      ]
     },
     "execution_count": 12,
     "metadata": {},
     "output_type": "execute_result"
    }
   ],
   "source": [
    "type(2 - 2.1)"
   ]
  },
  {
   "cell_type": "markdown",
   "id": "1e687678",
   "metadata": {},
   "source": [
    "- Eğer objelerden biri bile float ise çıkarma işleminde expression'un tipi float olur."
   ]
  },
  {
   "cell_type": "code",
   "execution_count": 13,
   "id": "0d1b0812",
   "metadata": {},
   "outputs": [
    {
     "data": {
      "text/plain": [
       "-0.5"
      ]
     },
     "execution_count": 13,
     "metadata": {},
     "output_type": "execute_result"
    }
   ],
   "source": [
    "2.5 - 3"
   ]
  },
  {
   "cell_type": "code",
   "execution_count": 14,
   "id": "b529029d",
   "metadata": {},
   "outputs": [
    {
     "data": {
      "text/plain": [
       "float"
      ]
     },
     "execution_count": 14,
     "metadata": {},
     "output_type": "execute_result"
    }
   ],
   "source": [
    "type(2.5 - 3)"
   ]
  },
  {
   "cell_type": "markdown",
   "id": "f694ed3d",
   "metadata": {},
   "source": [
    "## * operator"
   ]
  },
  {
   "cell_type": "code",
   "execution_count": 16,
   "id": "96eb8217",
   "metadata": {},
   "outputs": [
    {
     "data": {
      "text/plain": [
       "6"
      ]
     },
     "execution_count": 16,
     "metadata": {},
     "output_type": "execute_result"
    }
   ],
   "source": [
    "# İki tane integer'ın çarpımı integer verir.\n",
    "3 * 2"
   ]
  },
  {
   "cell_type": "code",
   "execution_count": 17,
   "id": "e74a8387",
   "metadata": {},
   "outputs": [
    {
     "data": {
      "text/plain": [
       "6.24"
      ]
     },
     "execution_count": 17,
     "metadata": {},
     "output_type": "execute_result"
    }
   ],
   "source": [
    "# İki tane float'un çarpımı float verir.\n",
    "2.6 * 2.4"
   ]
  },
  {
   "cell_type": "code",
   "execution_count": 18,
   "id": "7dbc325a",
   "metadata": {},
   "outputs": [
    {
     "data": {
      "text/plain": [
       "float"
      ]
     },
     "execution_count": 18,
     "metadata": {},
     "output_type": "execute_result"
    }
   ],
   "source": [
    "type(2.6 * 2.4)"
   ]
  },
  {
   "cell_type": "markdown",
   "id": "6d346096",
   "metadata": {},
   "source": [
    "- Eğer objelerden biri bile float ise çarpma işleminde expression'un tipi float olur."
   ]
  },
  {
   "cell_type": "code",
   "execution_count": 19,
   "id": "70a2cc60",
   "metadata": {},
   "outputs": [
    {
     "data": {
      "text/plain": [
       "7.5"
      ]
     },
     "execution_count": 19,
     "metadata": {},
     "output_type": "execute_result"
    }
   ],
   "source": [
    "2.5 * 3"
   ]
  },
  {
   "cell_type": "code",
   "execution_count": 20,
   "id": "cf67db8d",
   "metadata": {},
   "outputs": [
    {
     "data": {
      "text/plain": [
       "float"
      ]
     },
     "execution_count": 20,
     "metadata": {},
     "output_type": "execute_result"
    }
   ],
   "source": [
    "type(2.5 * 3) "
   ]
  },
  {
   "cell_type": "markdown",
   "id": "d54fb2db",
   "metadata": {},
   "source": [
    "## / operator"
   ]
  },
  {
   "cell_type": "code",
   "execution_count": 21,
   "id": "e5e3a3db",
   "metadata": {},
   "outputs": [
    {
     "data": {
      "text/plain": [
       "1.5"
      ]
     },
     "execution_count": 21,
     "metadata": {},
     "output_type": "execute_result"
    }
   ],
   "source": [
    "3 / 2"
   ]
  },
  {
   "cell_type": "code",
   "execution_count": 22,
   "id": "6882d907",
   "metadata": {},
   "outputs": [
    {
     "data": {
      "text/plain": [
       "2.0"
      ]
     },
     "execution_count": 22,
     "metadata": {},
     "output_type": "execute_result"
    }
   ],
   "source": [
    "3 / 1.5"
   ]
  },
  {
   "cell_type": "code",
   "execution_count": 23,
   "id": "1d0b710d",
   "metadata": {},
   "outputs": [
    {
     "data": {
      "text/plain": [
       "4.0"
      ]
     },
     "execution_count": 23,
     "metadata": {},
     "output_type": "execute_result"
    }
   ],
   "source": [
    "2.4 / 0.6"
   ]
  },
  {
   "cell_type": "markdown",
   "id": "7a404ce0",
   "metadata": {},
   "source": [
    "## // operator (int division)"
   ]
  },
  {
   "cell_type": "markdown",
   "id": "7e787071",
   "metadata": {},
   "source": [
    "- Eğer işleme girenlerden biri bile float ise cevap float olur."
   ]
  },
  {
   "cell_type": "code",
   "execution_count": 24,
   "id": "5f471aea",
   "metadata": {},
   "outputs": [
    {
     "data": {
      "text/plain": [
       "2"
      ]
     },
     "execution_count": 24,
     "metadata": {},
     "output_type": "execute_result"
    }
   ],
   "source": [
    "5 // 2"
   ]
  },
  {
   "cell_type": "code",
   "execution_count": 25,
   "id": "44e801d1",
   "metadata": {},
   "outputs": [
    {
     "data": {
      "text/plain": [
       "2.0"
      ]
     },
     "execution_count": 25,
     "metadata": {},
     "output_type": "execute_result"
    }
   ],
   "source": [
    "5 // 2.5"
   ]
  },
  {
   "cell_type": "code",
   "execution_count": 26,
   "id": "030903d0",
   "metadata": {},
   "outputs": [
    {
     "data": {
      "text/plain": [
       "0.0"
      ]
     },
     "execution_count": 26,
     "metadata": {},
     "output_type": "execute_result"
    }
   ],
   "source": [
    "4.2 // 5"
   ]
  },
  {
   "cell_type": "code",
   "execution_count": 27,
   "id": "14f9ca9d",
   "metadata": {},
   "outputs": [
    {
     "data": {
      "text/plain": [
       "1.0"
      ]
     },
     "execution_count": 27,
     "metadata": {},
     "output_type": "execute_result"
    }
   ],
   "source": [
    "8.2 // 5"
   ]
  },
  {
   "cell_type": "markdown",
   "id": "8f7b0fdb",
   "metadata": {},
   "source": [
    "## % operator (Remainder/kalan)"
   ]
  },
  {
   "cell_type": "markdown",
   "id": "9f8604f4",
   "metadata": {},
   "source": [
    "- Eğer kalan float ise cevap float olur yoksa integer olur."
   ]
  },
  {
   "cell_type": "code",
   "execution_count": 28,
   "id": "3b75c9e6",
   "metadata": {},
   "outputs": [
    {
     "data": {
      "text/plain": [
       "1"
      ]
     },
     "execution_count": 28,
     "metadata": {},
     "output_type": "execute_result"
    }
   ],
   "source": [
    "5 % 2"
   ]
  },
  {
   "cell_type": "code",
   "execution_count": 29,
   "id": "6aa16806",
   "metadata": {},
   "outputs": [
    {
     "data": {
      "text/plain": [
       "1"
      ]
     },
     "execution_count": 29,
     "metadata": {},
     "output_type": "execute_result"
    }
   ],
   "source": [
    "10 % 3"
   ]
  },
  {
   "cell_type": "code",
   "execution_count": 30,
   "id": "cf98a9ac",
   "metadata": {},
   "outputs": [
    {
     "data": {
      "text/plain": [
       "0.5"
      ]
     },
     "execution_count": 30,
     "metadata": {},
     "output_type": "execute_result"
    }
   ],
   "source": [
    "2.5 % 2"
   ]
  },
  {
   "cell_type": "markdown",
   "id": "60a857d7",
   "metadata": {},
   "source": [
    "## ** operator"
   ]
  },
  {
   "cell_type": "markdown",
   "id": "9d104606",
   "metadata": {},
   "source": [
    "- Üst alma işlemi yapar."
   ]
  },
  {
   "cell_type": "code",
   "execution_count": 31,
   "id": "83d8afeb",
   "metadata": {},
   "outputs": [
    {
     "data": {
      "text/plain": [
       "8"
      ]
     },
     "execution_count": 31,
     "metadata": {},
     "output_type": "execute_result"
    }
   ],
   "source": [
    "2 ** 3"
   ]
  },
  {
   "cell_type": "code",
   "execution_count": 32,
   "id": "92398969",
   "metadata": {},
   "outputs": [
    {
     "data": {
      "text/plain": [
       "9"
      ]
     },
     "execution_count": 32,
     "metadata": {},
     "output_type": "execute_result"
    }
   ],
   "source": [
    "3 ** 2"
   ]
  },
  {
   "cell_type": "code",
   "execution_count": 33,
   "id": "142b4caf",
   "metadata": {},
   "outputs": [
    {
     "data": {
      "text/plain": [
       "5.76"
      ]
     },
     "execution_count": 33,
     "metadata": {},
     "output_type": "execute_result"
    }
   ],
   "source": [
    "2.4 ** 2"
   ]
  },
  {
   "cell_type": "code",
   "execution_count": 34,
   "id": "a3ed1ec4",
   "metadata": {},
   "outputs": [
    {
     "data": {
      "text/plain": [
       "0.2"
      ]
     },
     "execution_count": 34,
     "metadata": {},
     "output_type": "execute_result"
    }
   ],
   "source": [
    "5 ** -1"
   ]
  },
  {
   "cell_type": "markdown",
   "id": "a254ccc4",
   "metadata": {},
   "source": [
    "## print()"
   ]
  },
  {
   "cell_type": "markdown",
   "id": "08184e25",
   "metadata": {},
   "source": [
    "- Bazen sadece bazı değerleri bastırmak isteriz, bunun için print() metodunu kullanabiliriz."
   ]
  },
  {
   "cell_type": "code",
   "execution_count": 35,
   "id": "21e68bb9",
   "metadata": {},
   "outputs": [
    {
     "name": "stdout",
     "output_type": "stream",
     "text": [
      "5\n"
     ]
    }
   ],
   "source": [
    "print(5)"
   ]
  },
  {
   "cell_type": "code",
   "execution_count": null,
   "id": "15c2c212",
   "metadata": {},
   "outputs": [],
   "source": []
  }
 ],
 "metadata": {
  "kernelspec": {
   "display_name": "Python 3 (ipykernel)",
   "language": "python",
   "name": "python3"
  },
  "language_info": {
   "codemirror_mode": {
    "name": "ipython",
    "version": 3
   },
   "file_extension": ".py",
   "mimetype": "text/x-python",
   "name": "python",
   "nbconvert_exporter": "python",
   "pygments_lexer": "ipython3",
   "version": "3.9.13"
  }
 },
 "nbformat": 4,
 "nbformat_minor": 5
}
