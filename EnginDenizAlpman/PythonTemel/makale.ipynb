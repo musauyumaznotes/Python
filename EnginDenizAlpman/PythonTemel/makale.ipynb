{
 "cells": [
  {
   "cell_type": "markdown",
   "id": "c2a3a2af",
   "metadata": {},
   "source": [
    "# Veri Bilimi Nedir?\n",
    "\n",
    "    Veri bilimi, iş için anlamlı öngörüler ayıklamak amacıyla veriler üzerinde gerçekleştirilen çalışmaların adıdır. Büyük miktardaki verileri analiz etmek için matematik, istatistik, yapay zeka ve bilgisayar mühendisliği alanlarının ilke ve uygulamalarını bir araya getiren, disiplinler arası bir yaklaşımdır.\n",
    "    \n",
    "# Veri bilimi neden önemlidir?\n",
    "    Veri bilimi, verilerden anlam çıkartmak amacıyla çeşitli araç, yöntem ve teknolojileri bir araya getirdiği için önemlidir. Modern kuruluşlar adeta bir veri bombardımanı altında. Bilgileri otomatik olarak toplayabilen ve depolayabilen cihaz sayısı eskisinden çok daha fazla. Çevrimiçi sistemler ve ödeme portalları; e-ticaret, tıp, finans gibi alanlarda ve insan yaşamının diğer her alanında çok daha fazla veri yakalıyor. Devasa miktarda metin, ses, video ve görüntü verilerine erişebiliyoruz.  \n",
    "\n",
    "    Veriler işlenerek bilgiye dönüşür. Bu yüzden artık verilerle kendimizi daha çok içli dışlı hale getirerek verilerin gerçekten de gelecekteki petrol olduğunu kabullenmeliyiz. Gün içinde gözlemleyebildimiz ya da gözlemleyemediğiz birçok veriyle karşılaşıyor o veriler üstünde çalışmalar sergiliyoruz. Hatta biz bile gün içerisinde birçok veri üretiyoruz. Peki bu ürettiğimiz verileri ne kadar altına alabiliyoruz. Ne kadarını kendimiz için bilgiye yani yararlı hale çevirebiliyoruz? \n"
   ]
  }
 ],
 "metadata": {
  "kernelspec": {
   "display_name": "Python 3 (ipykernel)",
   "language": "python",
   "name": "python3"
  },
  "language_info": {
   "codemirror_mode": {
    "name": "ipython",
    "version": 3
   },
   "file_extension": ".py",
   "mimetype": "text/x-python",
   "name": "python",
   "nbconvert_exporter": "python",
   "pygments_lexer": "ipython3",
   "version": "3.9.13"
  }
 },
 "nbformat": 4,
 "nbformat_minor": 5
}
