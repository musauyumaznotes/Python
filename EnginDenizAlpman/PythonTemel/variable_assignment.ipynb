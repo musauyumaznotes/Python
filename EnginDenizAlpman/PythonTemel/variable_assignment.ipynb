{
 "cells": [
  {
   "cell_type": "markdown",
   "id": "7233c44b",
   "metadata": {},
   "source": [
    "# Değişken Atama (Variable Assignment)\n",
    "- Bazı değerleri bilgisayarın hafızasında tutmak ve daha sonra bunlara verdiğimiz adlarla erişmek isteyebiliriz. Bunu variable'ler ile gerçekleştireceğiz.\n",
    "\n",
    "\n",
    "- İlk olarak yapacağımız şey variable'ye vereceğimiz ismi yazmak. Bu isim penguen, uzunluk, maaş gibi istediğiniz bir isim olabilir (burada dikkat edilmesi gereken yer, verilecek ismin daha önceden Python'un default olarak kullanmadığı isimler olması. Mesela if, continue, for gibi keyword'ler daha önceden ayrıldığı için bunları variable ismi olarak kullanamayız)\n",
    "\n",
    "\n",
    "- Python'un daha önceden kendisine ayırdığı isimler (reserved words):\n",
    "```python\n",
    "  and       del       from      not       while    \n",
    "  as        elif      global    or        with     \n",
    "  assert    else      if        pass      yield    \n",
    "  break     except    import    print     True         \n",
    "  class     exec      in        raise     False         \n",
    "  continue  finally   is        return             \n",
    "  def       for       lambda    try\n",
    "```\n",
    "\n",
    "- Variable ismini seçtikten sonra bu ismin değerinin ne olacağını söylemeliyiz. Bu aşamadan sonra Python verdiğimiz ismi gördüğünde aslında verdiğimiz değeri çağırıyor olacak.\n",
    "\n",
    "\n",
    "- Bu değer atama işlemini = sembolü ile yapacağız. Normalde bildiğimiz anlamından farklı bu = işareti. Eşitliğin sağındaki değeri solda yazdığımızın değeri olarak ata demiş oluyoruz bununla. Bu işleme variable assignment deniyor."
   ]
  },
  {
   "cell_type": "code",
   "execution_count": 17,
   "id": "ce4b2d31",
   "metadata": {},
   "outputs": [],
   "source": [
    "a = 2"
   ]
  },
  {
   "cell_type": "code",
   "execution_count": 18,
   "id": "bde0164b",
   "metadata": {},
   "outputs": [
    {
     "data": {
      "text/plain": [
       "2"
      ]
     },
     "execution_count": 18,
     "metadata": {},
     "output_type": "execute_result"
    }
   ],
   "source": [
    "a"
   ]
  },
  {
   "cell_type": "code",
   "execution_count": 19,
   "id": "0db46a27",
   "metadata": {},
   "outputs": [
    {
     "data": {
      "text/plain": [
       "7"
      ]
     },
     "execution_count": 19,
     "metadata": {},
     "output_type": "execute_result"
    }
   ],
   "source": [
    "a+5"
   ]
  },
  {
   "cell_type": "code",
   "execution_count": 5,
   "id": "d98eded3",
   "metadata": {},
   "outputs": [],
   "source": [
    "b = 2+4"
   ]
  },
  {
   "cell_type": "code",
   "execution_count": 6,
   "id": "22ee826e",
   "metadata": {},
   "outputs": [
    {
     "data": {
      "text/plain": [
       "6"
      ]
     },
     "execution_count": 6,
     "metadata": {},
     "output_type": "execute_result"
    }
   ],
   "source": [
    "b"
   ]
  },
  {
   "cell_type": "code",
   "execution_count": 7,
   "id": "ac86679c",
   "metadata": {},
   "outputs": [
    {
     "data": {
      "text/plain": [
       "10"
      ]
     },
     "execution_count": 7,
     "metadata": {},
     "output_type": "execute_result"
    }
   ],
   "source": [
    "b+4"
   ]
  },
  {
   "cell_type": "markdown",
   "id": "e30d6b59",
   "metadata": {},
   "source": [
    "- Artık kodun başka bir yerinde a ile işlem yapmaya çalışsam python a'ya 2 olarak davranacak.\n",
    "\n",
    "\n",
    "- Variable Assingment'i kafamızda canlandırmak için şöyle düşünebiliriz:\n",
    "- Variable'a bir isim verip bir atama yaptığımızda Python bilgisayarın hafızasında o isimli bir konteyner oluşturuyor ve ismini verdiğimiz isim yapıyor. Daha sonra bu isim çağrıldığında o konteynera gidiyor ve o değeri alıyor\n"
   ]
  },
  {
   "cell_type": "markdown",
   "id": "5b6e2476",
   "metadata": {},
   "source": [
    "<img src=\"1.png\">"
   ]
  },
  {
   "cell_type": "code",
   "execution_count": 33,
   "id": "37a05848",
   "metadata": {},
   "outputs": [],
   "source": [
    "limon_fiyat = 15"
   ]
  },
  {
   "cell_type": "code",
   "execution_count": 34,
   "id": "f018fdc2",
   "metadata": {},
   "outputs": [],
   "source": [
    "s1 = limon_fiyat * 100"
   ]
  },
  {
   "cell_type": "code",
   "execution_count": 35,
   "id": "86637054",
   "metadata": {},
   "outputs": [],
   "source": [
    "s2 = limon_fiyat * 70"
   ]
  },
  {
   "cell_type": "code",
   "execution_count": 36,
   "id": "92c0e7b3",
   "metadata": {},
   "outputs": [],
   "source": [
    "s3 = limon_fiyat * 30"
   ]
  },
  {
   "cell_type": "code",
   "execution_count": 37,
   "id": "5abf9a64",
   "metadata": {
    "scrolled": true
   },
   "outputs": [
    {
     "name": "stdout",
     "output_type": "stream",
     "text": [
      "1500\n"
     ]
    }
   ],
   "source": [
    "print(s1)"
   ]
  },
  {
   "cell_type": "code",
   "execution_count": 38,
   "id": "6ea6b51c",
   "metadata": {},
   "outputs": [
    {
     "name": "stdout",
     "output_type": "stream",
     "text": [
      "1050\n"
     ]
    }
   ],
   "source": [
    "print(s2)"
   ]
  },
  {
   "cell_type": "code",
   "execution_count": 39,
   "id": "ddd0008e",
   "metadata": {},
   "outputs": [
    {
     "name": "stdout",
     "output_type": "stream",
     "text": [
      "450\n"
     ]
    }
   ],
   "source": [
    "print(s3)"
   ]
  },
  {
   "cell_type": "code",
   "execution_count": 40,
   "id": "dd0d3e4f",
   "metadata": {},
   "outputs": [],
   "source": [
    "s1 = 15 * 100"
   ]
  },
  {
   "cell_type": "code",
   "execution_count": 41,
   "id": "34387bfe",
   "metadata": {},
   "outputs": [],
   "source": [
    "s2 = 15 * 70"
   ]
  },
  {
   "cell_type": "code",
   "execution_count": 43,
   "id": "00e80c7c",
   "metadata": {},
   "outputs": [],
   "source": [
    "s3 = 15 * 30"
   ]
  },
  {
   "cell_type": "code",
   "execution_count": 44,
   "id": "00d55594",
   "metadata": {
    "scrolled": true
   },
   "outputs": [
    {
     "name": "stdout",
     "output_type": "stream",
     "text": [
      "1500\n"
     ]
    }
   ],
   "source": [
    "print(s1)"
   ]
  },
  {
   "cell_type": "code",
   "execution_count": 45,
   "id": "1a22148e",
   "metadata": {},
   "outputs": [
    {
     "name": "stdout",
     "output_type": "stream",
     "text": [
      "1050\n"
     ]
    }
   ],
   "source": [
    "print(s2)"
   ]
  },
  {
   "cell_type": "code",
   "execution_count": 46,
   "id": "12d60700",
   "metadata": {},
   "outputs": [
    {
     "name": "stdout",
     "output_type": "stream",
     "text": [
      "450\n"
     ]
    }
   ],
   "source": [
    "print(s3)"
   ]
  },
  {
   "cell_type": "code",
   "execution_count": null,
   "id": "d9003897",
   "metadata": {},
   "outputs": [],
   "source": []
  }
 ],
 "metadata": {
  "kernelspec": {
   "display_name": "Python 3 (ipykernel)",
   "language": "python",
   "name": "python3"
  },
  "language_info": {
   "codemirror_mode": {
    "name": "ipython",
    "version": 3
   },
   "file_extension": ".py",
   "mimetype": "text/x-python",
   "name": "python",
   "nbconvert_exporter": "python",
   "pygments_lexer": "ipython3",
   "version": "3.9.13"
  }
 },
 "nbformat": 4,
 "nbformat_minor": 5
}
