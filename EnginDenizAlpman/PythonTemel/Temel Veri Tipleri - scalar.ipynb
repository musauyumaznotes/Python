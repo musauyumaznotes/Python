{
 "cells": [
  {
   "cell_type": "markdown",
   "id": "63f0e88a",
   "metadata": {},
   "source": [
    "# Temel Veri Tipleri\n",
    "* Programlar veri objelerini (data object) manipüle ederek istediklerimizi yaparlar.\n",
    "\n",
    "* Programa istediğimizi yaptırmamız için girdilerimizi ve programın içerisinde kullanılacak verileri ifade edebilmemiz lazım\n",
    "\n",
    "* Veri Objeleri ikiye ayrılır:\n",
    "    1. Scalar: Daha alt parçalara bölünemeyen yapılar (sayılar vs gibi)\n",
    "    2. Non-scalar : Daha alt parçalara bölünebilen, içsel yapısına erişilebilen (sayıları ard arda koyduğumuz bir yapı buna örnek olabilir)\n",
    "    \n",
    "* Her objenin bir tipi vardır, program bu tiplere gmre onlarla nasıl işlem yapabileceğine karar verir. Mesela iki tane sayıyı toplamak iki tane yazıyı birleştirmek..."
   ]
  },
  {
   "cell_type": "markdown",
   "id": "f8f33137",
   "metadata": {},
   "source": [
    "### a) Integers (tam sayılar)"
   ]
  },
  {
   "cell_type": "code",
   "execution_count": 1,
   "id": "ae053c63",
   "metadata": {},
   "outputs": [
    {
     "data": {
      "text/plain": [
       "2"
      ]
     },
     "execution_count": 1,
     "metadata": {},
     "output_type": "execute_result"
    }
   ],
   "source": [
    "2"
   ]
  },
  {
   "cell_type": "code",
   "execution_count": 2,
   "id": "236c16e6",
   "metadata": {},
   "outputs": [
    {
     "data": {
      "text/plain": [
       "3"
      ]
     },
     "execution_count": 2,
     "metadata": {},
     "output_type": "execute_result"
    }
   ],
   "source": [
    "3"
   ]
  },
  {
   "cell_type": "markdown",
   "id": "3f7b39b9",
   "metadata": {},
   "source": [
    "### b) Floats (kesirli sayılar)"
   ]
  },
  {
   "cell_type": "code",
   "execution_count": 3,
   "id": "e1adf5c2",
   "metadata": {},
   "outputs": [
    {
     "data": {
      "text/plain": [
       "2.3"
      ]
     },
     "execution_count": 3,
     "metadata": {},
     "output_type": "execute_result"
    }
   ],
   "source": [
    "2.3"
   ]
  },
  {
   "cell_type": "code",
   "execution_count": 4,
   "id": "4f58d9f9",
   "metadata": {},
   "outputs": [
    {
     "data": {
      "text/plain": [
       "2.5"
      ]
     },
     "execution_count": 4,
     "metadata": {},
     "output_type": "execute_result"
    }
   ],
   "source": [
    "2.5"
   ]
  },
  {
   "cell_type": "code",
   "execution_count": 5,
   "id": "62d8cf31",
   "metadata": {},
   "outputs": [
    {
     "data": {
      "text/plain": [
       "2.0"
      ]
     },
     "execution_count": 5,
     "metadata": {},
     "output_type": "execute_result"
    }
   ],
   "source": [
    "2.0"
   ]
  },
  {
   "cell_type": "code",
   "execution_count": 12,
   "id": "d97cf2ac",
   "metadata": {},
   "outputs": [
    {
     "data": {
      "text/plain": [
       "3.0"
      ]
     },
     "execution_count": 12,
     "metadata": {},
     "output_type": "execute_result"
    }
   ],
   "source": [
    "3."
   ]
  },
  {
   "cell_type": "markdown",
   "id": "0087b2ab",
   "metadata": {},
   "source": [
    "### d) Boolean\n",
    "   - Daha ileriki konularda if-else mantığını gördüğümüzde daha iyi oturacak bir veri tipi. Özetle bir şeyin doğru(True) veya yanlış(False) olduğunu belirten bir yapı\n",
    "   \n",
    "   - Bir önermenin doğru veya yanlış olduğunu söyler bize "
   ]
  },
  {
   "cell_type": "code",
   "execution_count": 6,
   "id": "440a0323",
   "metadata": {},
   "outputs": [
    {
     "data": {
      "text/plain": [
       "True"
      ]
     },
     "execution_count": 6,
     "metadata": {},
     "output_type": "execute_result"
    }
   ],
   "source": [
    "True"
   ]
  },
  {
   "cell_type": "code",
   "execution_count": 7,
   "id": "30484266",
   "metadata": {},
   "outputs": [
    {
     "data": {
      "text/plain": [
       "False"
      ]
     },
     "execution_count": 7,
     "metadata": {},
     "output_type": "execute_result"
    }
   ],
   "source": [
    "False"
   ]
  },
  {
   "cell_type": "code",
   "execution_count": 13,
   "id": "3adf572a",
   "metadata": {},
   "outputs": [
    {
     "data": {
      "text/plain": [
       "False"
      ]
     },
     "execution_count": 13,
     "metadata": {},
     "output_type": "execute_result"
    }
   ],
   "source": [
    "2 > 3"
   ]
  },
  {
   "cell_type": "code",
   "execution_count": 14,
   "id": "5d024706",
   "metadata": {},
   "outputs": [
    {
     "data": {
      "text/plain": [
       "True"
      ]
     },
     "execution_count": 14,
     "metadata": {},
     "output_type": "execute_result"
    }
   ],
   "source": [
    "2 < 3"
   ]
  },
  {
   "cell_type": "markdown",
   "id": "b2ec2266",
   "metadata": {},
   "source": [
    "### type()\n",
    "- Objelerin tiplerine type() ile bakabiliriz"
   ]
  },
  {
   "cell_type": "code",
   "execution_count": 9,
   "id": "939ff224",
   "metadata": {},
   "outputs": [
    {
     "data": {
      "text/plain": [
       "int"
      ]
     },
     "execution_count": 9,
     "metadata": {},
     "output_type": "execute_result"
    }
   ],
   "source": [
    "type(2)"
   ]
  },
  {
   "cell_type": "code",
   "execution_count": 10,
   "id": "5abd2c97",
   "metadata": {},
   "outputs": [
    {
     "data": {
      "text/plain": [
       "float"
      ]
     },
     "execution_count": 10,
     "metadata": {},
     "output_type": "execute_result"
    }
   ],
   "source": [
    "type(2.3)"
   ]
  },
  {
   "cell_type": "code",
   "execution_count": 11,
   "id": "7f73e6e4",
   "metadata": {},
   "outputs": [
    {
     "data": {
      "text/plain": [
       "bool"
      ]
     },
     "execution_count": 11,
     "metadata": {},
     "output_type": "execute_result"
    }
   ],
   "source": [
    "type(True)"
   ]
  },
  {
   "cell_type": "markdown",
   "id": "d76d6897",
   "metadata": {},
   "source": [
    "### Type Casting (Tip Dönüştürmesi)\n",
    "- Data objelerinin tipini değiştirebiliyoruz buna casting deniyor"
   ]
  },
  {
   "cell_type": "code",
   "execution_count": 15,
   "id": "fc532a2e",
   "metadata": {},
   "outputs": [
    {
     "data": {
      "text/plain": [
       "2"
      ]
     },
     "execution_count": 15,
     "metadata": {},
     "output_type": "execute_result"
    }
   ],
   "source": [
    "int(2.4)"
   ]
  },
  {
   "cell_type": "code",
   "execution_count": 17,
   "id": "3ffe3eb9",
   "metadata": {},
   "outputs": [
    {
     "data": {
      "text/plain": [
       "2"
      ]
     },
     "execution_count": 17,
     "metadata": {},
     "output_type": "execute_result"
    }
   ],
   "source": [
    "# Sayıları yuvarlamaz, sadece tam olan kısmını alır\n",
    "int(2.9)"
   ]
  },
  {
   "cell_type": "code",
   "execution_count": 18,
   "id": "068dfe4f",
   "metadata": {},
   "outputs": [
    {
     "data": {
      "text/plain": [
       "4.2"
      ]
     },
     "execution_count": 18,
     "metadata": {},
     "output_type": "execute_result"
    }
   ],
   "source": [
    "float(4.2)"
   ]
  },
  {
   "cell_type": "code",
   "execution_count": null,
   "id": "3ace0e3e",
   "metadata": {},
   "outputs": [],
   "source": []
  }
 ],
 "metadata": {
  "kernelspec": {
   "display_name": "Python 3 (ipykernel)",
   "language": "python",
   "name": "python3"
  },
  "language_info": {
   "codemirror_mode": {
    "name": "ipython",
    "version": 3
   },
   "file_extension": ".py",
   "mimetype": "text/x-python",
   "name": "python",
   "nbconvert_exporter": "python",
   "pygments_lexer": "ipython3",
   "version": "3.9.13"
  }
 },
 "nbformat": 4,
 "nbformat_minor": 5
}
