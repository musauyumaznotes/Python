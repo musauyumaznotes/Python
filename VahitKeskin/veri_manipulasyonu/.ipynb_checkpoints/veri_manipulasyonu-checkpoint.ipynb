{
 "cells": [
  {
   "cell_type": "code",
   "execution_count": 1,
   "id": "1f1e84cd-5914-4cab-bfe4-11bf64ac8a0c",
   "metadata": {},
   "outputs": [
    {
     "name": "stdout",
     "output_type": "stream",
     "text": [
      "a\n"
     ]
    }
   ],
   "source": [
    "print(\"a\")"
   ]
  },
  {
   "cell_type": "markdown",
   "id": "5e681bc1-b7ab-48d4-83d2-6fd121bf89aa",
   "metadata": {},
   "source": [
    "Merhaba\n",
    "\n",
    "Herhangi başka şeylerde yazılabilir\n",
    "\n",
    "_italik_\n",
    "\n",
    "**kalın**"
   ]
  },
  {
   "cell_type": "code",
   "execution_count": 4,
   "id": "3975c492-47ea-413e-9270-b6e7fe85a808",
   "metadata": {},
   "outputs": [],
   "source": [
    "#Merhaba"
   ]
  },
  {
   "cell_type": "code",
   "execution_count": 5,
   "id": "5c8cde5d-202b-42c4-a6d8-bd7b075671c3",
   "metadata": {},
   "outputs": [
    {
     "data": {
      "text/plain": [
       "'a'"
      ]
     },
     "execution_count": 5,
     "metadata": {},
     "output_type": "execute_result"
    }
   ],
   "source": [
    "\"a\""
   ]
  },
  {
   "cell_type": "code",
   "execution_count": null,
   "id": "c9e391d6-c7b7-4adc-884a-8e9cbee838a7",
   "metadata": {},
   "outputs": [],
   "source": []
  },
  {
   "cell_type": "code",
   "execution_count": null,
   "id": "ef1805f9-d9c9-4acd-a9aa-eccde742c7d3",
   "metadata": {},
   "outputs": [],
   "source": []
  }
 ],
 "metadata": {
  "kernelspec": {
   "display_name": "Python 3 (ipykernel)",
   "language": "python",
   "name": "python3"
  },
  "language_info": {
   "codemirror_mode": {
    "name": "ipython",
    "version": 3
   },
   "file_extension": ".py",
   "mimetype": "text/x-python",
   "name": "python",
   "nbconvert_exporter": "python",
   "pygments_lexer": "ipython3",
   "version": "3.9.13"
  }
 },
 "nbformat": 4,
 "nbformat_minor": 5
}
