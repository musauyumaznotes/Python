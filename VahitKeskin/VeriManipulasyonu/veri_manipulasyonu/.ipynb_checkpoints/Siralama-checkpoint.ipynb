{
 "cells": [
  {
   "cell_type": "markdown",
   "id": "37823254-42a0-45f8-bc8b-648d400bdcc0",
   "metadata": {},
   "source": [
    "# Array Sıralama (Sorting)"
   ]
  },
  {
   "cell_type": "code",
   "execution_count": 2,
   "id": "f797fc40-4b6a-4a0a-bad1-c063208edda4",
   "metadata": {},
   "outputs": [],
   "source": [
    "import numpy as np"
   ]
  },
  {
   "cell_type": "code",
   "execution_count": 3,
   "id": "df30f628-20b3-49ef-a23f-5d416be54f1e",
   "metadata": {},
   "outputs": [],
   "source": [
    "v = np.array([2,1,4,3,5])"
   ]
  },
  {
   "cell_type": "code",
   "execution_count": 4,
   "id": "4dff237d-b245-418e-8c19-7688e17de809",
   "metadata": {},
   "outputs": [
    {
     "data": {
      "text/plain": [
       "array([2, 1, 4, 3, 5])"
      ]
     },
     "execution_count": 4,
     "metadata": {},
     "output_type": "execute_result"
    }
   ],
   "source": [
    "v"
   ]
  },
  {
   "cell_type": "code",
   "execution_count": 5,
   "id": "7140f500-03eb-40f4-85e4-14f213166aed",
   "metadata": {},
   "outputs": [
    {
     "data": {
      "text/plain": [
       "array([1, 2, 3, 4, 5])"
      ]
     },
     "execution_count": 5,
     "metadata": {},
     "output_type": "execute_result"
    }
   ],
   "source": [
    "np.sort(v)"
   ]
  },
  {
   "cell_type": "code",
   "execution_count": 6,
   "id": "75616dd9-241b-4942-bc1a-e3b031765845",
   "metadata": {},
   "outputs": [
    {
     "data": {
      "text/plain": [
       "array([2, 1, 4, 3, 5])"
      ]
     },
     "execution_count": 6,
     "metadata": {},
     "output_type": "execute_result"
    }
   ],
   "source": [
    "v"
   ]
  },
  {
   "cell_type": "code",
   "execution_count": 7,
   "id": "a0cfb75c-ade2-48d4-baf8-90be57ff77b7",
   "metadata": {},
   "outputs": [],
   "source": [
    "v.sort()"
   ]
  },
  {
   "cell_type": "code",
   "execution_count": 8,
   "id": "57e338fd-344d-46a9-938b-349191ce0e0d",
   "metadata": {},
   "outputs": [
    {
     "data": {
      "text/plain": [
       "array([1, 2, 3, 4, 5])"
      ]
     },
     "execution_count": 8,
     "metadata": {},
     "output_type": "execute_result"
    }
   ],
   "source": [
    "v"
   ]
  },
  {
   "cell_type": "markdown",
   "id": "ffb3a8f5-8d65-493f-a1af-c69024e3c9b1",
   "metadata": {},
   "source": [
    "## İki Boyutlu"
   ]
  },
  {
   "cell_type": "code",
   "execution_count": 10,
   "id": "fa9f1fb4-92a6-42b1-87e3-e73a9dda01bd",
   "metadata": {},
   "outputs": [],
   "source": [
    "m = np.random.normal(20,5,(3,3))"
   ]
  },
  {
   "cell_type": "code",
   "execution_count": 11,
   "id": "39dd0acd-82a5-4948-9ab0-0d85234f46c2",
   "metadata": {},
   "outputs": [
    {
     "data": {
      "text/plain": [
       "array([[22.61355396, 24.8487407 , 14.41325982],\n",
       "       [23.51772532, 21.88562771, 25.64020087],\n",
       "       [10.63548468, 13.87454019, 24.65403657]])"
      ]
     },
     "execution_count": 11,
     "metadata": {},
     "output_type": "execute_result"
    }
   ],
   "source": [
    "m"
   ]
  },
  {
   "cell_type": "code",
   "execution_count": 12,
   "id": "09b820a7-625e-4cc8-920a-b138fb2623e7",
   "metadata": {},
   "outputs": [
    {
     "data": {
      "text/plain": [
       "array([[14.41325982, 22.61355396, 24.8487407 ],\n",
       "       [21.88562771, 23.51772532, 25.64020087],\n",
       "       [10.63548468, 13.87454019, 24.65403657]])"
      ]
     },
     "execution_count": 12,
     "metadata": {},
     "output_type": "execute_result"
    }
   ],
   "source": [
    "np.sort(m, axis = 1)"
   ]
  },
  {
   "cell_type": "code",
   "execution_count": 13,
   "id": "3f136964-5288-4f0a-9c23-ad6ac1439db6",
   "metadata": {},
   "outputs": [
    {
     "data": {
      "text/plain": [
       "array([[10.63548468, 13.87454019, 14.41325982],\n",
       "       [22.61355396, 21.88562771, 24.65403657],\n",
       "       [23.51772532, 24.8487407 , 25.64020087]])"
      ]
     },
     "execution_count": 13,
     "metadata": {},
     "output_type": "execute_result"
    }
   ],
   "source": [
    "np.sort(m,axis = 0)"
   ]
  },
  {
   "cell_type": "code",
   "execution_count": null,
   "id": "dbc4c0a3-2a68-4fc1-ac74-659a75011938",
   "metadata": {},
   "outputs": [],
   "source": []
  }
 ],
 "metadata": {
  "kernelspec": {
   "display_name": "Python 3 (ipykernel)",
   "language": "python",
   "name": "python3"
  },
  "language_info": {
   "codemirror_mode": {
    "name": "ipython",
    "version": 3
   },
   "file_extension": ".py",
   "mimetype": "text/x-python",
   "name": "python",
   "nbconvert_exporter": "python",
   "pygments_lexer": "ipython3",
   "version": "3.9.13"
  }
 },
 "nbformat": 4,
 "nbformat_minor": 5
}
